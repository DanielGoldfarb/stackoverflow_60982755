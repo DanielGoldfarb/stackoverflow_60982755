{
 "cells": [
  {
   "cell_type": "code",
   "execution_count": 1,
   "metadata": {},
   "outputs": [],
   "source": [
    "import pandas as pd"
   ]
  },
  {
   "cell_type": "code",
   "execution_count": 121,
   "metadata": {},
   "outputs": [
    {
     "data": {
      "text/html": [
       "<div>\n",
       "<style scoped>\n",
       "    .dataframe tbody tr th:only-of-type {\n",
       "        vertical-align: middle;\n",
       "    }\n",
       "\n",
       "    .dataframe tbody tr th {\n",
       "        vertical-align: top;\n",
       "    }\n",
       "\n",
       "    .dataframe thead th {\n",
       "        text-align: right;\n",
       "    }\n",
       "</style>\n",
       "<table border=\"1\" class=\"dataframe\">\n",
       "  <thead>\n",
       "    <tr style=\"text-align: right;\">\n",
       "      <th></th>\n",
       "      <th>high</th>\n",
       "      <th>last</th>\n",
       "      <th>created_at</th>\n",
       "      <th>book</th>\n",
       "      <th>volume</th>\n",
       "      <th>vwap</th>\n",
       "      <th>low</th>\n",
       "      <th>ask</th>\n",
       "      <th>bid</th>\n",
       "      <th>change_24</th>\n",
       "    </tr>\n",
       "  </thead>\n",
       "  <tbody>\n",
       "    <tr>\n",
       "      <th>0</th>\n",
       "      <td>178565.38</td>\n",
       "      <td>167761.49</td>\n",
       "      <td>2020-02-27T01:51:00+00:00</td>\n",
       "      <td>btc_mxn</td>\n",
       "      <td>358.79390</td>\n",
       "      <td>171361.83299</td>\n",
       "      <td>165000.01</td>\n",
       "      <td>167761.49</td>\n",
       "      <td>167643.05</td>\n",
       "      <td>-10384.67</td>\n",
       "    </tr>\n",
       "    <tr>\n",
       "      <th>1</th>\n",
       "      <td>178565.38</td>\n",
       "      <td>167643.05</td>\n",
       "      <td>2020-02-27T01:52:00+00:00</td>\n",
       "      <td>btc_mxn</td>\n",
       "      <td>357.62323</td>\n",
       "      <td>171341.03777</td>\n",
       "      <td>165000.01</td>\n",
       "      <td>167755.91</td>\n",
       "      <td>167643.05</td>\n",
       "      <td>-10117.13</td>\n",
       "    </tr>\n",
       "    <tr>\n",
       "      <th>2</th>\n",
       "      <td>178565.38</td>\n",
       "      <td>167639.96</td>\n",
       "      <td>2020-02-27T01:53:00+00:00</td>\n",
       "      <td>btc_mxn</td>\n",
       "      <td>357.71302</td>\n",
       "      <td>171339.77428</td>\n",
       "      <td>165000.01</td>\n",
       "      <td>167755.91</td>\n",
       "      <td>167639.96</td>\n",
       "      <td>-10120.22</td>\n",
       "    </tr>\n",
       "  </tbody>\n",
       "</table>\n",
       "</div>"
      ],
      "text/plain": [
       "        high       last                 created_at     book     volume  \\\n",
       "0  178565.38  167761.49  2020-02-27T01:51:00+00:00  btc_mxn  358.79390   \n",
       "1  178565.38  167643.05  2020-02-27T01:52:00+00:00  btc_mxn  357.62323   \n",
       "2  178565.38  167639.96  2020-02-27T01:53:00+00:00  btc_mxn  357.71302   \n",
       "\n",
       "           vwap        low        ask        bid  change_24  \n",
       "0  171361.83299  165000.01  167761.49  167643.05  -10384.67  \n",
       "1  171341.03777  165000.01  167755.91  167643.05  -10117.13  \n",
       "2  171339.77428  165000.01  167755.91  167639.96  -10120.22  "
      ]
     },
     "execution_count": 121,
     "metadata": {},
     "output_type": "execute_result"
    }
   ],
   "source": [
    "df = pd.read_csv('raw_data.txt')\n",
    "df.head(3)"
   ]
  },
  {
   "cell_type": "code",
   "execution_count": 122,
   "metadata": {},
   "outputs": [],
   "source": [
    "df = pd.read_csv('raw_data.txt',usecols=['last','created_at','volume'],index_col=1,parse_dates=True)\n",
    "df.index.name = 'Time'"
   ]
  },
  {
   "cell_type": "code",
   "execution_count": 124,
   "metadata": {},
   "outputs": [
    {
     "data": {
      "text/html": [
       "<div>\n",
       "<style scoped>\n",
       "    .dataframe tbody tr th:only-of-type {\n",
       "        vertical-align: middle;\n",
       "    }\n",
       "\n",
       "    .dataframe tbody tr th {\n",
       "        vertical-align: top;\n",
       "    }\n",
       "\n",
       "    .dataframe thead th {\n",
       "        text-align: right;\n",
       "    }\n",
       "</style>\n",
       "<table border=\"1\" class=\"dataframe\">\n",
       "  <thead>\n",
       "    <tr style=\"text-align: right;\">\n",
       "      <th></th>\n",
       "      <th>last</th>\n",
       "      <th>volume</th>\n",
       "    </tr>\n",
       "    <tr>\n",
       "      <th>Time</th>\n",
       "      <th></th>\n",
       "      <th></th>\n",
       "    </tr>\n",
       "  </thead>\n",
       "  <tbody>\n",
       "    <tr>\n",
       "      <th>2020-02-27 01:51:00+00:00</th>\n",
       "      <td>167761.49</td>\n",
       "      <td>358.79390</td>\n",
       "    </tr>\n",
       "    <tr>\n",
       "      <th>2020-02-27 01:52:00+00:00</th>\n",
       "      <td>167643.05</td>\n",
       "      <td>357.62323</td>\n",
       "    </tr>\n",
       "    <tr>\n",
       "      <th>2020-02-27 01:53:00+00:00</th>\n",
       "      <td>167639.96</td>\n",
       "      <td>357.71302</td>\n",
       "    </tr>\n",
       "  </tbody>\n",
       "</table>\n",
       "</div>"
      ],
      "text/plain": [
       "                                last     volume\n",
       "Time                                           \n",
       "2020-02-27 01:51:00+00:00  167761.49  358.79390\n",
       "2020-02-27 01:52:00+00:00  167643.05  357.62323\n",
       "2020-02-27 01:53:00+00:00  167639.96  357.71302"
      ]
     },
     "execution_count": 124,
     "metadata": {},
     "output_type": "execute_result"
    }
   ],
   "source": [
    "df.head(3)"
   ]
  },
  {
   "cell_type": "code",
   "execution_count": 137,
   "metadata": {},
   "outputs": [],
   "source": [
    "ohlc = df['last'].resample('30T').ohlc()"
   ]
  },
  {
   "cell_type": "code",
   "execution_count": 138,
   "metadata": {},
   "outputs": [
    {
     "data": {
      "text/html": [
       "<div>\n",
       "<style scoped>\n",
       "    .dataframe tbody tr th:only-of-type {\n",
       "        vertical-align: middle;\n",
       "    }\n",
       "\n",
       "    .dataframe tbody tr th {\n",
       "        vertical-align: top;\n",
       "    }\n",
       "\n",
       "    .dataframe thead th {\n",
       "        text-align: right;\n",
       "    }\n",
       "</style>\n",
       "<table border=\"1\" class=\"dataframe\">\n",
       "  <thead>\n",
       "    <tr style=\"text-align: right;\">\n",
       "      <th></th>\n",
       "      <th>open</th>\n",
       "      <th>high</th>\n",
       "      <th>low</th>\n",
       "      <th>close</th>\n",
       "    </tr>\n",
       "    <tr>\n",
       "      <th>Time</th>\n",
       "      <th></th>\n",
       "      <th></th>\n",
       "      <th></th>\n",
       "      <th></th>\n",
       "    </tr>\n",
       "  </thead>\n",
       "  <tbody>\n",
       "    <tr>\n",
       "      <th>2020-02-27 01:30:00+00:00</th>\n",
       "      <td>167761.49</td>\n",
       "      <td>168896.91</td>\n",
       "      <td>167639.96</td>\n",
       "      <td>168765.00</td>\n",
       "    </tr>\n",
       "    <tr>\n",
       "      <th>2020-02-27 02:00:00+00:00</th>\n",
       "      <td>168101.24</td>\n",
       "      <td>169632.18</td>\n",
       "      <td>167630.31</td>\n",
       "      <td>168771.94</td>\n",
       "    </tr>\n",
       "    <tr>\n",
       "      <th>2020-02-27 02:30:00+00:00</th>\n",
       "      <td>168771.94</td>\n",
       "      <td>168885.56</td>\n",
       "      <td>167630.31</td>\n",
       "      <td>168301.12</td>\n",
       "    </tr>\n",
       "  </tbody>\n",
       "</table>\n",
       "</div>"
      ],
      "text/plain": [
       "                                open       high        low      close\n",
       "Time                                                                 \n",
       "2020-02-27 01:30:00+00:00  167761.49  168896.91  167639.96  168765.00\n",
       "2020-02-27 02:00:00+00:00  168101.24  169632.18  167630.31  168771.94\n",
       "2020-02-27 02:30:00+00:00  168771.94  168885.56  167630.31  168301.12"
      ]
     },
     "execution_count": 138,
     "metadata": {},
     "output_type": "execute_result"
    }
   ],
   "source": [
    "ohlc.head(3)"
   ]
  },
  {
   "cell_type": "code",
   "execution_count": 139,
   "metadata": {},
   "outputs": [],
   "source": [
    "vol = df['volume'].resample('30T').sum()"
   ]
  },
  {
   "cell_type": "code",
   "execution_count": 140,
   "metadata": {},
   "outputs": [
    {
     "data": {
      "text/plain": [
       "Time\n",
       "2020-02-27 01:30:00+00:00     3231.78684\n",
       "2020-02-27 02:00:00+00:00    10640.60103\n",
       "2020-02-27 02:30:00+00:00    10605.08984\n",
       "Freq: 30T, Name: volume, dtype: float64"
      ]
     },
     "execution_count": 140,
     "metadata": {},
     "output_type": "execute_result"
    }
   ],
   "source": [
    "vol.head(3)"
   ]
  },
  {
   "cell_type": "code",
   "execution_count": 141,
   "metadata": {},
   "outputs": [],
   "source": [
    "ohlcv = pd.concat([ohlc,vol],axis=1)"
   ]
  },
  {
   "cell_type": "code",
   "execution_count": 142,
   "metadata": {},
   "outputs": [
    {
     "data": {
      "text/html": [
       "<div>\n",
       "<style scoped>\n",
       "    .dataframe tbody tr th:only-of-type {\n",
       "        vertical-align: middle;\n",
       "    }\n",
       "\n",
       "    .dataframe tbody tr th {\n",
       "        vertical-align: top;\n",
       "    }\n",
       "\n",
       "    .dataframe thead th {\n",
       "        text-align: right;\n",
       "    }\n",
       "</style>\n",
       "<table border=\"1\" class=\"dataframe\">\n",
       "  <thead>\n",
       "    <tr style=\"text-align: right;\">\n",
       "      <th></th>\n",
       "      <th>open</th>\n",
       "      <th>high</th>\n",
       "      <th>low</th>\n",
       "      <th>close</th>\n",
       "      <th>volume</th>\n",
       "    </tr>\n",
       "    <tr>\n",
       "      <th>Time</th>\n",
       "      <th></th>\n",
       "      <th></th>\n",
       "      <th></th>\n",
       "      <th></th>\n",
       "      <th></th>\n",
       "    </tr>\n",
       "  </thead>\n",
       "  <tbody>\n",
       "    <tr>\n",
       "      <th>2020-02-27 01:30:00+00:00</th>\n",
       "      <td>167761.49</td>\n",
       "      <td>168896.91</td>\n",
       "      <td>167639.96</td>\n",
       "      <td>168765.00</td>\n",
       "      <td>3231.78684</td>\n",
       "    </tr>\n",
       "    <tr>\n",
       "      <th>2020-02-27 02:00:00+00:00</th>\n",
       "      <td>168101.24</td>\n",
       "      <td>169632.18</td>\n",
       "      <td>167630.31</td>\n",
       "      <td>168771.94</td>\n",
       "      <td>10640.60103</td>\n",
       "    </tr>\n",
       "    <tr>\n",
       "      <th>2020-02-27 02:30:00+00:00</th>\n",
       "      <td>168771.94</td>\n",
       "      <td>168885.56</td>\n",
       "      <td>167630.31</td>\n",
       "      <td>168301.12</td>\n",
       "      <td>10605.08984</td>\n",
       "    </tr>\n",
       "  </tbody>\n",
       "</table>\n",
       "</div>"
      ],
      "text/plain": [
       "                                open       high        low      close  \\\n",
       "Time                                                                    \n",
       "2020-02-27 01:30:00+00:00  167761.49  168896.91  167639.96  168765.00   \n",
       "2020-02-27 02:00:00+00:00  168101.24  169632.18  167630.31  168771.94   \n",
       "2020-02-27 02:30:00+00:00  168771.94  168885.56  167630.31  168301.12   \n",
       "\n",
       "                                volume  \n",
       "Time                                    \n",
       "2020-02-27 01:30:00+00:00   3231.78684  \n",
       "2020-02-27 02:00:00+00:00  10640.60103  \n",
       "2020-02-27 02:30:00+00:00  10605.08984  "
      ]
     },
     "execution_count": 142,
     "metadata": {},
     "output_type": "execute_result"
    }
   ],
   "source": [
    "ohlcv.head(3)"
   ]
  },
  {
   "cell_type": "code",
   "execution_count": 143,
   "metadata": {},
   "outputs": [],
   "source": [
    "ohlcv.columns = ohlcv.columns.str.capitalize()"
   ]
  },
  {
   "cell_type": "code",
   "execution_count": 144,
   "metadata": {},
   "outputs": [
    {
     "data": {
      "text/html": [
       "<div>\n",
       "<style scoped>\n",
       "    .dataframe tbody tr th:only-of-type {\n",
       "        vertical-align: middle;\n",
       "    }\n",
       "\n",
       "    .dataframe tbody tr th {\n",
       "        vertical-align: top;\n",
       "    }\n",
       "\n",
       "    .dataframe thead th {\n",
       "        text-align: right;\n",
       "    }\n",
       "</style>\n",
       "<table border=\"1\" class=\"dataframe\">\n",
       "  <thead>\n",
       "    <tr style=\"text-align: right;\">\n",
       "      <th></th>\n",
       "      <th>Open</th>\n",
       "      <th>High</th>\n",
       "      <th>Low</th>\n",
       "      <th>Close</th>\n",
       "      <th>Volume</th>\n",
       "    </tr>\n",
       "    <tr>\n",
       "      <th>Time</th>\n",
       "      <th></th>\n",
       "      <th></th>\n",
       "      <th></th>\n",
       "      <th></th>\n",
       "      <th></th>\n",
       "    </tr>\n",
       "  </thead>\n",
       "  <tbody>\n",
       "    <tr>\n",
       "      <th>2020-02-27 01:30:00+00:00</th>\n",
       "      <td>167761.49</td>\n",
       "      <td>168896.91</td>\n",
       "      <td>167639.96</td>\n",
       "      <td>168765.00</td>\n",
       "      <td>3231.78684</td>\n",
       "    </tr>\n",
       "    <tr>\n",
       "      <th>2020-02-27 02:00:00+00:00</th>\n",
       "      <td>168101.24</td>\n",
       "      <td>169632.18</td>\n",
       "      <td>167630.31</td>\n",
       "      <td>168771.94</td>\n",
       "      <td>10640.60103</td>\n",
       "    </tr>\n",
       "    <tr>\n",
       "      <th>2020-02-27 02:30:00+00:00</th>\n",
       "      <td>168771.94</td>\n",
       "      <td>168885.56</td>\n",
       "      <td>167630.31</td>\n",
       "      <td>168301.12</td>\n",
       "      <td>10605.08984</td>\n",
       "    </tr>\n",
       "  </tbody>\n",
       "</table>\n",
       "</div>"
      ],
      "text/plain": [
       "                                Open       High        Low      Close  \\\n",
       "Time                                                                    \n",
       "2020-02-27 01:30:00+00:00  167761.49  168896.91  167639.96  168765.00   \n",
       "2020-02-27 02:00:00+00:00  168101.24  169632.18  167630.31  168771.94   \n",
       "2020-02-27 02:30:00+00:00  168771.94  168885.56  167630.31  168301.12   \n",
       "\n",
       "                                Volume  \n",
       "Time                                    \n",
       "2020-02-27 01:30:00+00:00   3231.78684  \n",
       "2020-02-27 02:00:00+00:00  10640.60103  \n",
       "2020-02-27 02:30:00+00:00  10605.08984  "
      ]
     },
     "execution_count": 144,
     "metadata": {},
     "output_type": "execute_result"
    }
   ],
   "source": [
    "ohlcv.head(3)"
   ]
  },
  {
   "cell_type": "code",
   "execution_count": 145,
   "metadata": {},
   "outputs": [
    {
     "data": {
      "text/html": [
       "<div>\n",
       "<style scoped>\n",
       "    .dataframe tbody tr th:only-of-type {\n",
       "        vertical-align: middle;\n",
       "    }\n",
       "\n",
       "    .dataframe tbody tr th {\n",
       "        vertical-align: top;\n",
       "    }\n",
       "\n",
       "    .dataframe thead th {\n",
       "        text-align: right;\n",
       "    }\n",
       "</style>\n",
       "<table border=\"1\" class=\"dataframe\">\n",
       "  <thead>\n",
       "    <tr style=\"text-align: right;\">\n",
       "      <th></th>\n",
       "      <th>Open</th>\n",
       "      <th>High</th>\n",
       "      <th>Low</th>\n",
       "      <th>Close</th>\n",
       "      <th>Volume</th>\n",
       "    </tr>\n",
       "    <tr>\n",
       "      <th>Time</th>\n",
       "      <th></th>\n",
       "      <th></th>\n",
       "      <th></th>\n",
       "      <th></th>\n",
       "      <th></th>\n",
       "    </tr>\n",
       "  </thead>\n",
       "  <tbody>\n",
       "    <tr>\n",
       "      <th>2020-02-28 00:30:00+00:00</th>\n",
       "      <td>173368.37</td>\n",
       "      <td>173484.98</td>\n",
       "      <td>172022.79</td>\n",
       "      <td>172450.00</td>\n",
       "      <td>10125.68275</td>\n",
       "    </tr>\n",
       "    <tr>\n",
       "      <th>2020-02-28 01:00:00+00:00</th>\n",
       "      <td>172388.96</td>\n",
       "      <td>173188.22</td>\n",
       "      <td>171850.04</td>\n",
       "      <td>171982.46</td>\n",
       "      <td>10002.92101</td>\n",
       "    </tr>\n",
       "    <tr>\n",
       "      <th>2020-02-28 01:30:00+00:00</th>\n",
       "      <td>172049.59</td>\n",
       "      <td>173399.80</td>\n",
       "      <td>172049.59</td>\n",
       "      <td>172739.47</td>\n",
       "      <td>8944.86550</td>\n",
       "    </tr>\n",
       "  </tbody>\n",
       "</table>\n",
       "</div>"
      ],
      "text/plain": [
       "                                Open       High        Low      Close  \\\n",
       "Time                                                                    \n",
       "2020-02-28 00:30:00+00:00  173368.37  173484.98  172022.79  172450.00   \n",
       "2020-02-28 01:00:00+00:00  172388.96  173188.22  171850.04  171982.46   \n",
       "2020-02-28 01:30:00+00:00  172049.59  173399.80  172049.59  172739.47   \n",
       "\n",
       "                                Volume  \n",
       "Time                                    \n",
       "2020-02-28 00:30:00+00:00  10125.68275  \n",
       "2020-02-28 01:00:00+00:00  10002.92101  \n",
       "2020-02-28 01:30:00+00:00   8944.86550  "
      ]
     },
     "execution_count": 145,
     "metadata": {},
     "output_type": "execute_result"
    }
   ],
   "source": [
    "ohlcv.tail(3)"
   ]
  },
  {
   "cell_type": "code",
   "execution_count": 146,
   "metadata": {},
   "outputs": [],
   "source": [
    "import mplfinance as mpf"
   ]
  },
  {
   "cell_type": "code",
   "execution_count": 147,
   "metadata": {},
   "outputs": [
    {
     "data": {
      "image/png": "[encoded data removed]",
      "text/plain": [
       "<Figure size 1008x724.5 with 4 Axes>"
      ]
     },
     "metadata": {},
     "output_type": "display_data"
    }
   ],
   "source": [
    "mpf.plot(ohlcv,type='candle',volume=True,figscale=1.75)"
   ]
  },
  {
   "cell_type": "code",
   "execution_count": null,
   "metadata": {},
   "outputs": [],
   "source": []
  }
 ],
 "metadata": {
  "kernelspec": {
   "display_name": "Python 3",
   "language": "python",
   "name": "python3"
  },
  "language_info": {
   "codemirror_mode": {
    "name": "ipython",
    "version": 3
   },
   "file_extension": ".py",
   "mimetype": "text/x-python",
   "name": "python",
   "nbconvert_exporter": "python",
   "pygments_lexer": "ipython3",
   "version": "3.7.4"
  }
 },
 "nbformat": 4,
 "nbformat_minor": 2
}
